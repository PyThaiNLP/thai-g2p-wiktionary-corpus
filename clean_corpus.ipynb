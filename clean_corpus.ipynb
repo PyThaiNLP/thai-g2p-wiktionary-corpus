{
  "nbformat": 4,
  "nbformat_minor": 0,
  "metadata": {
    "colab": {
      "name": "clean-corpus.ipynb",
      "provenance": [],
      "collapsed_sections": []
    },
    "kernelspec": {
      "name": "python3",
      "display_name": "Python 3"
    },
    "language_info": {
      "name": "python"
    },
    "widgets": {
      "application/vnd.jupyter.widget-state+json": {
        "1acca069cd3e416bb175b82a3d558ee6": {
          "model_module": "@jupyter-widgets/controls",
          "model_name": "HBoxModel",
          "model_module_version": "1.5.0",
          "state": {
            "_dom_classes": [],
            "_model_module": "@jupyter-widgets/controls",
            "_model_module_version": "1.5.0",
            "_model_name": "HBoxModel",
            "_view_count": null,
            "_view_module": "@jupyter-widgets/controls",
            "_view_module_version": "1.5.0",
            "_view_name": "HBoxView",
            "box_style": "",
            "children": [
              "IPY_MODEL_2dd03535f40349458d74f3c9d2633ba1",
              "IPY_MODEL_43adc7bcafe448e091de920e0ea3b578",
              "IPY_MODEL_e8cc67197aa84025b7a9076df0f40322"
            ],
            "layout": "IPY_MODEL_30f9def79ba9468485601c9686b72727"
          }
        },
        "2dd03535f40349458d74f3c9d2633ba1": {
          "model_module": "@jupyter-widgets/controls",
          "model_name": "HTMLModel",
          "model_module_version": "1.5.0",
          "state": {
            "_dom_classes": [],
            "_model_module": "@jupyter-widgets/controls",
            "_model_module_version": "1.5.0",
            "_model_name": "HTMLModel",
            "_view_count": null,
            "_view_module": "@jupyter-widgets/controls",
            "_view_module_version": "1.5.0",
            "_view_name": "HTMLView",
            "description": "",
            "description_tooltip": null,
            "layout": "IPY_MODEL_214f680c854c4572b2e8377bf43a6bf6",
            "placeholder": "​",
            "style": "IPY_MODEL_a6ae432ec9f94d92add2139bdf72b85e",
            "value": "100%"
          }
        },
        "43adc7bcafe448e091de920e0ea3b578": {
          "model_module": "@jupyter-widgets/controls",
          "model_name": "FloatProgressModel",
          "model_module_version": "1.5.0",
          "state": {
            "_dom_classes": [],
            "_model_module": "@jupyter-widgets/controls",
            "_model_module_version": "1.5.0",
            "_model_name": "FloatProgressModel",
            "_view_count": null,
            "_view_module": "@jupyter-widgets/controls",
            "_view_module_version": "1.5.0",
            "_view_name": "ProgressView",
            "bar_style": "success",
            "description": "",
            "description_tooltip": null,
            "layout": "IPY_MODEL_6871f1741afe45cfaf64283a50feb309",
            "max": 16028,
            "min": 0,
            "orientation": "horizontal",
            "style": "IPY_MODEL_a49241e2048e499bb6e487af782d9f47",
            "value": 16028
          }
        },
        "e8cc67197aa84025b7a9076df0f40322": {
          "model_module": "@jupyter-widgets/controls",
          "model_name": "HTMLModel",
          "model_module_version": "1.5.0",
          "state": {
            "_dom_classes": [],
            "_model_module": "@jupyter-widgets/controls",
            "_model_module_version": "1.5.0",
            "_model_name": "HTMLModel",
            "_view_count": null,
            "_view_module": "@jupyter-widgets/controls",
            "_view_module_version": "1.5.0",
            "_view_name": "HTMLView",
            "description": "",
            "description_tooltip": null,
            "layout": "IPY_MODEL_5f04d92bb4644c82b073ddad4987af49",
            "placeholder": "​",
            "style": "IPY_MODEL_3a1c768bae7248f9a73edd790c7d19ec",
            "value": " 16028/16028 [00:00&lt;00:00, 24622.03it/s]"
          }
        },
        "30f9def79ba9468485601c9686b72727": {
          "model_module": "@jupyter-widgets/base",
          "model_name": "LayoutModel",
          "model_module_version": "1.2.0",
          "state": {
            "_model_module": "@jupyter-widgets/base",
            "_model_module_version": "1.2.0",
            "_model_name": "LayoutModel",
            "_view_count": null,
            "_view_module": "@jupyter-widgets/base",
            "_view_module_version": "1.2.0",
            "_view_name": "LayoutView",
            "align_content": null,
            "align_items": null,
            "align_self": null,
            "border": null,
            "bottom": null,
            "display": null,
            "flex": null,
            "flex_flow": null,
            "grid_area": null,
            "grid_auto_columns": null,
            "grid_auto_flow": null,
            "grid_auto_rows": null,
            "grid_column": null,
            "grid_gap": null,
            "grid_row": null,
            "grid_template_areas": null,
            "grid_template_columns": null,
            "grid_template_rows": null,
            "height": null,
            "justify_content": null,
            "justify_items": null,
            "left": null,
            "margin": null,
            "max_height": null,
            "max_width": null,
            "min_height": null,
            "min_width": null,
            "object_fit": null,
            "object_position": null,
            "order": null,
            "overflow": null,
            "overflow_x": null,
            "overflow_y": null,
            "padding": null,
            "right": null,
            "top": null,
            "visibility": null,
            "width": null
          }
        },
        "214f680c854c4572b2e8377bf43a6bf6": {
          "model_module": "@jupyter-widgets/base",
          "model_name": "LayoutModel",
          "model_module_version": "1.2.0",
          "state": {
            "_model_module": "@jupyter-widgets/base",
            "_model_module_version": "1.2.0",
            "_model_name": "LayoutModel",
            "_view_count": null,
            "_view_module": "@jupyter-widgets/base",
            "_view_module_version": "1.2.0",
            "_view_name": "LayoutView",
            "align_content": null,
            "align_items": null,
            "align_self": null,
            "border": null,
            "bottom": null,
            "display": null,
            "flex": null,
            "flex_flow": null,
            "grid_area": null,
            "grid_auto_columns": null,
            "grid_auto_flow": null,
            "grid_auto_rows": null,
            "grid_column": null,
            "grid_gap": null,
            "grid_row": null,
            "grid_template_areas": null,
            "grid_template_columns": null,
            "grid_template_rows": null,
            "height": null,
            "justify_content": null,
            "justify_items": null,
            "left": null,
            "margin": null,
            "max_height": null,
            "max_width": null,
            "min_height": null,
            "min_width": null,
            "object_fit": null,
            "object_position": null,
            "order": null,
            "overflow": null,
            "overflow_x": null,
            "overflow_y": null,
            "padding": null,
            "right": null,
            "top": null,
            "visibility": null,
            "width": null
          }
        },
        "a6ae432ec9f94d92add2139bdf72b85e": {
          "model_module": "@jupyter-widgets/controls",
          "model_name": "DescriptionStyleModel",
          "model_module_version": "1.5.0",
          "state": {
            "_model_module": "@jupyter-widgets/controls",
            "_model_module_version": "1.5.0",
            "_model_name": "DescriptionStyleModel",
            "_view_count": null,
            "_view_module": "@jupyter-widgets/base",
            "_view_module_version": "1.2.0",
            "_view_name": "StyleView",
            "description_width": ""
          }
        },
        "6871f1741afe45cfaf64283a50feb309": {
          "model_module": "@jupyter-widgets/base",
          "model_name": "LayoutModel",
          "model_module_version": "1.2.0",
          "state": {
            "_model_module": "@jupyter-widgets/base",
            "_model_module_version": "1.2.0",
            "_model_name": "LayoutModel",
            "_view_count": null,
            "_view_module": "@jupyter-widgets/base",
            "_view_module_version": "1.2.0",
            "_view_name": "LayoutView",
            "align_content": null,
            "align_items": null,
            "align_self": null,
            "border": null,
            "bottom": null,
            "display": null,
            "flex": null,
            "flex_flow": null,
            "grid_area": null,
            "grid_auto_columns": null,
            "grid_auto_flow": null,
            "grid_auto_rows": null,
            "grid_column": null,
            "grid_gap": null,
            "grid_row": null,
            "grid_template_areas": null,
            "grid_template_columns": null,
            "grid_template_rows": null,
            "height": null,
            "justify_content": null,
            "justify_items": null,
            "left": null,
            "margin": null,
            "max_height": null,
            "max_width": null,
            "min_height": null,
            "min_width": null,
            "object_fit": null,
            "object_position": null,
            "order": null,
            "overflow": null,
            "overflow_x": null,
            "overflow_y": null,
            "padding": null,
            "right": null,
            "top": null,
            "visibility": null,
            "width": null
          }
        },
        "a49241e2048e499bb6e487af782d9f47": {
          "model_module": "@jupyter-widgets/controls",
          "model_name": "ProgressStyleModel",
          "model_module_version": "1.5.0",
          "state": {
            "_model_module": "@jupyter-widgets/controls",
            "_model_module_version": "1.5.0",
            "_model_name": "ProgressStyleModel",
            "_view_count": null,
            "_view_module": "@jupyter-widgets/base",
            "_view_module_version": "1.2.0",
            "_view_name": "StyleView",
            "bar_color": null,
            "description_width": ""
          }
        },
        "5f04d92bb4644c82b073ddad4987af49": {
          "model_module": "@jupyter-widgets/base",
          "model_name": "LayoutModel",
          "model_module_version": "1.2.0",
          "state": {
            "_model_module": "@jupyter-widgets/base",
            "_model_module_version": "1.2.0",
            "_model_name": "LayoutModel",
            "_view_count": null,
            "_view_module": "@jupyter-widgets/base",
            "_view_module_version": "1.2.0",
            "_view_name": "LayoutView",
            "align_content": null,
            "align_items": null,
            "align_self": null,
            "border": null,
            "bottom": null,
            "display": null,
            "flex": null,
            "flex_flow": null,
            "grid_area": null,
            "grid_auto_columns": null,
            "grid_auto_flow": null,
            "grid_auto_rows": null,
            "grid_column": null,
            "grid_gap": null,
            "grid_row": null,
            "grid_template_areas": null,
            "grid_template_columns": null,
            "grid_template_rows": null,
            "height": null,
            "justify_content": null,
            "justify_items": null,
            "left": null,
            "margin": null,
            "max_height": null,
            "max_width": null,
            "min_height": null,
            "min_width": null,
            "object_fit": null,
            "object_position": null,
            "order": null,
            "overflow": null,
            "overflow_x": null,
            "overflow_y": null,
            "padding": null,
            "right": null,
            "top": null,
            "visibility": null,
            "width": null
          }
        },
        "3a1c768bae7248f9a73edd790c7d19ec": {
          "model_module": "@jupyter-widgets/controls",
          "model_name": "DescriptionStyleModel",
          "model_module_version": "1.5.0",
          "state": {
            "_model_module": "@jupyter-widgets/controls",
            "_model_module_version": "1.5.0",
            "_model_name": "DescriptionStyleModel",
            "_view_count": null,
            "_view_module": "@jupyter-widgets/base",
            "_view_module_version": "1.2.0",
            "_view_name": "StyleView",
            "description_width": ""
          }
        }
      }
    }
  },
  "cells": [
    {
      "cell_type": "markdown",
      "source": [
        "# Clean Corpus\n",
        "\n",
        "because WikiPron has split by char but It doesn't splir by groups (Vowels and Diphthongs), so we use MudYom (มัดย้อม) for claen the dataset."
      ],
      "metadata": {
        "id": "RytUigXpyn0m"
      }
    },
    {
      "cell_type": "code",
      "execution_count": 27,
      "metadata": {
        "colab": {
          "base_uri": "https://localhost:8080/"
        },
        "id": "g6UpifsCtmcD",
        "outputId": "c2eb6d1d-f485-4d45-fff0-c1c13a065dda"
      },
      "outputs": [
        {
          "output_type": "stream",
          "name": "stdout",
          "text": [
            "Looking in indexes: https://pypi.org/simple, https://us-python.pkg.dev/colab-wheels/public/simple/\n",
            "Collecting git+https://github.com/pythainlp/mudyom.git\n",
            "  Cloning https://github.com/pythainlp/mudyom.git to /tmp/pip-req-build-9g1oaozb\n",
            "  Running command git clone -q https://github.com/pythainlp/mudyom.git /tmp/pip-req-build-9g1oaozb\n",
            "Requirement already satisfied: numpy==1.16.4 in /usr/local/lib/python3.7/dist-packages (from mudyom==0.0.1) (1.16.4)\n",
            "Requirement already satisfied: pytest==5.0.1 in /usr/local/lib/python3.7/dist-packages (from mudyom==0.0.1) (5.0.1)\n",
            "Requirement already satisfied: fire==0.1.3 in /usr/local/lib/python3.7/dist-packages (from mudyom==0.0.1) (0.1.3)\n",
            "Requirement already satisfied: six in /usr/local/lib/python3.7/dist-packages (from fire==0.1.3->mudyom==0.0.1) (1.15.0)\n",
            "Requirement already satisfied: importlib-metadata>=0.12 in /usr/local/lib/python3.7/dist-packages (from pytest==5.0.1->mudyom==0.0.1) (4.12.0)\n",
            "Requirement already satisfied: more-itertools>=4.0.0 in /usr/local/lib/python3.7/dist-packages (from pytest==5.0.1->mudyom==0.0.1) (8.13.0)\n",
            "Requirement already satisfied: attrs>=17.4.0 in /usr/local/lib/python3.7/dist-packages (from pytest==5.0.1->mudyom==0.0.1) (21.4.0)\n",
            "Requirement already satisfied: atomicwrites>=1.0 in /usr/local/lib/python3.7/dist-packages (from pytest==5.0.1->mudyom==0.0.1) (1.4.1)\n",
            "Requirement already satisfied: packaging in /usr/local/lib/python3.7/dist-packages (from pytest==5.0.1->mudyom==0.0.1) (21.3)\n",
            "Requirement already satisfied: pluggy<1.0,>=0.12 in /usr/local/lib/python3.7/dist-packages (from pytest==5.0.1->mudyom==0.0.1) (0.13.1)\n",
            "Requirement already satisfied: py>=1.5.0 in /usr/local/lib/python3.7/dist-packages (from pytest==5.0.1->mudyom==0.0.1) (1.11.0)\n",
            "Requirement already satisfied: wcwidth in /usr/local/lib/python3.7/dist-packages (from pytest==5.0.1->mudyom==0.0.1) (0.2.5)\n",
            "Requirement already satisfied: typing-extensions>=3.6.4 in /usr/local/lib/python3.7/dist-packages (from importlib-metadata>=0.12->pytest==5.0.1->mudyom==0.0.1) (4.1.1)\n",
            "Requirement already satisfied: zipp>=0.5 in /usr/local/lib/python3.7/dist-packages (from importlib-metadata>=0.12->pytest==5.0.1->mudyom==0.0.1) (3.8.1)\n",
            "Requirement already satisfied: pyparsing!=3.0.5,>=2.0.2 in /usr/local/lib/python3.7/dist-packages (from packaging->pytest==5.0.1->mudyom==0.0.1) (3.0.9)\n"
          ]
        }
      ],
      "source": [
        "!pip install git+https://github.com/pythainlp/mudyom.git"
      ]
    },
    {
      "cell_type": "code",
      "source": [
        "!pip install tqdm"
      ],
      "metadata": {
        "colab": {
          "base_uri": "https://localhost:8080/"
        },
        "id": "-X_S0aiSxdeZ",
        "outputId": "babe2878-7958-4137-8ade-c86b4e0c6cc4"
      },
      "execution_count": 21,
      "outputs": [
        {
          "output_type": "stream",
          "name": "stdout",
          "text": [
            "Looking in indexes: https://pypi.org/simple, https://us-python.pkg.dev/colab-wheels/public/simple/\n",
            "Requirement already satisfied: tqdm in /usr/local/lib/python3.7/dist-packages (4.64.0)\n"
          ]
        }
      ]
    },
    {
      "cell_type": "code",
      "source": [
        "diphthongs_dict = [\n",
        "                   \"ia\",\n",
        "                   \"ua\",\n",
        "                   \"ɯa\"\n",
        "]\n",
        "vowels_dict = [\n",
        "               \"aj\",\n",
        "               \"aw\",\n",
        "               \"ew\",\n",
        "               \"ɛw\",\n",
        "               \"iw\",\n",
        "               \"ɔj\",\n",
        "               \"uj\",\n",
        "               \"aːj\",\n",
        "               \"aːw\",\n",
        "               \"eːw\",\n",
        "               \"ɛːw\",\n",
        "               \"oːj\",\n",
        "               \"ɔːj\",\n",
        "               \"ɤːj\",\n",
        "               \"iaw\",\n",
        "               \"uaj\",\n",
        "               \"ɯaj\"\n",
        "               \"ɯa̯ j\"\n",
        "] # https://th.wiktionary.org/wiki/%E0%B8%A7%E0%B8%B4%E0%B8%81%E0%B8%B4%E0%B8%9E%E0%B8%88%E0%B8%99%E0%B8%B2%E0%B8%99%E0%B8%B8%E0%B8%81%E0%B8%A3%E0%B8%A1:%E0%B8%81%E0%B8%B2%E0%B8%A3%E0%B8%AD%E0%B8%AD%E0%B8%81%E0%B9%80%E0%B8%AA%E0%B8%B5%E0%B8%A2%E0%B8%87%E0%B9%83%E0%B8%99%E0%B8%A0%E0%B8%B2%E0%B8%A9%E0%B8%B2%E0%B9%84%E0%B8%97%E0%B8%A2\n",
        "v_more= \"\"\"aʔ\n",
        "o\n",
        "ɑn\n",
        "ɑ\n",
        "ɑm\n",
        "ua\n",
        "uɛj\n",
        "ɔː\n",
        "ɔːj\n",
        "aʔ\n",
        "a\n",
        "ɑj\n",
        "ua\n",
        "uaʔ\n",
        "aː\n",
        "aːj\n",
        "aːw\n",
        "ɑm\n",
        "i\n",
        "iw\n",
        "iː\n",
        "ɯ\n",
        "ɯː\n",
        "u\n",
        "uː\n",
        "eː\n",
        "e\n",
        "eʔ\n",
        "ɤːj\n",
        "ɤː\n",
        "ɤʔ\n",
        "ɤ\n",
        "eːw\n",
        "aw\n",
        "ɔʔ\n",
        "iːa\n",
        "iaʔ\n",
        "io\n",
        "ɯːa\n",
        "ɯaʔ\n",
        "ɛː\n",
        "ɛʔ\n",
        "ɛ\n",
        "ɛːw\n",
        "oː\n",
        "oʔ\n",
        "ɑj\n",
        "ɑj\n",
        "rɯ\n",
        "rɯː\n",
        "lɯ\n",
        "lɯː\"\"\".splitlines() # https://en.wiktionary.org/wiki/Appendix:Thai_script"
      ],
      "metadata": {
        "id": "3wu07PdLtnc4"
      },
      "execution_count": 51,
      "outputs": []
    },
    {
      "cell_type": "code",
      "source": [
        "with open(\"wiktionary-23-7-2022.tsv\",\"r\",encoding=\"utf-8-sig\") as f:\n",
        "  list_words = [i.strip().split('\\t') for i in f.readlines()]"
      ],
      "metadata": {
        "id": "liNkTPB7vMLR"
      },
      "execution_count": 52,
      "outputs": []
    },
    {
      "cell_type": "code",
      "source": [
        "list_p = []\n",
        "for _,p in list_words:\n",
        "  for j in p.split(\" \"):\n",
        "    if j not in list_p:\n",
        "      list_p.append(j.strip())"
      ],
      "metadata": {
        "id": "AbpB_PiwviGS"
      },
      "execution_count": 53,
      "outputs": []
    },
    {
      "cell_type": "code",
      "source": [
        "len(list_p)"
      ],
      "metadata": {
        "colab": {
          "base_uri": "https://localhost:8080/"
        },
        "id": "uCffUl6BvjWB",
        "outputId": "98e80f8b-4e59-44fe-e10a-d9e0ebb9562a"
      },
      "execution_count": 54,
      "outputs": [
        {
          "output_type": "execute_result",
          "data": {
            "text/plain": [
              "63"
            ]
          },
          "metadata": {},
          "execution_count": 54
        }
      ]
    },
    {
      "cell_type": "code",
      "source": [
        "p_all = [i.strip() for i in vowels_dict+list_p+diphthongs_dict+v_more]+[i.strip().replace('a',\"a̯\") for i in vowels_dict+diphthongs_dict+v_more if \"a̯\" not in i]"
      ],
      "metadata": {
        "id": "1zLadIizv15p"
      },
      "execution_count": 55,
      "outputs": []
    },
    {
      "cell_type": "code",
      "source": [
        "import mudyom as my\n",
        "from tqdm.auto import tqdm"
      ],
      "metadata": {
        "id": "f8zetm7lwA9q"
      },
      "execution_count": 56,
      "outputs": []
    },
    {
      "cell_type": "code",
      "source": [
        "my_obj = my.MudYom(p_all)"
      ],
      "metadata": {
        "id": "DJMCuHxFwHFg"
      },
      "execution_count": 57,
      "outputs": []
    },
    {
      "cell_type": "code",
      "source": [
        "my_obj.yom(\"kʰ a ˨˩ . n o m ˩˩˦ . p ia̯ ʔ ˦˥\".replace(' ',\"\"))"
      ],
      "metadata": {
        "colab": {
          "base_uri": "https://localhost:8080/",
          "height": 36
        },
        "id": "24EGBlYHwLVm",
        "outputId": "81a5ea00-16c5-4c7c-949b-391b9fe5af52"
      },
      "execution_count": 58,
      "outputs": [
        {
          "output_type": "execute_result",
          "data": {
            "text/plain": [
              "'kʰ|a|˨˩|.|n|o|m|˩˩˦|.|p|ia̯ʔ|˦˥'"
            ],
            "application/vnd.google.colaboratory.intrinsic+json": {
              "type": "string"
            }
          },
          "metadata": {},
          "execution_count": 58
        }
      ]
    },
    {
      "cell_type": "code",
      "source": [
        "list_word_new = [i+\"\\t\"+' '.join(my_obj.yom(j.replace(' ','')).split('|')) for i, j in tqdm(list_words)]"
      ],
      "metadata": {
        "colab": {
          "base_uri": "https://localhost:8080/",
          "height": 49,
          "referenced_widgets": [
            "1acca069cd3e416bb175b82a3d558ee6",
            "2dd03535f40349458d74f3c9d2633ba1",
            "43adc7bcafe448e091de920e0ea3b578",
            "e8cc67197aa84025b7a9076df0f40322",
            "30f9def79ba9468485601c9686b72727",
            "214f680c854c4572b2e8377bf43a6bf6",
            "a6ae432ec9f94d92add2139bdf72b85e",
            "6871f1741afe45cfaf64283a50feb309",
            "a49241e2048e499bb6e487af782d9f47",
            "5f04d92bb4644c82b073ddad4987af49",
            "3a1c768bae7248f9a73edd790c7d19ec"
          ]
        },
        "id": "tH1Ty0tTwReW",
        "outputId": "107634ba-4427-4f30-9322-53d66a65e702"
      },
      "execution_count": 59,
      "outputs": [
        {
          "output_type": "display_data",
          "data": {
            "text/plain": [
              "  0%|          | 0/16028 [00:00<?, ?it/s]"
            ],
            "application/vnd.jupyter.widget-view+json": {
              "version_major": 2,
              "version_minor": 0,
              "model_id": "1acca069cd3e416bb175b82a3d558ee6"
            }
          },
          "metadata": {}
        }
      ]
    },
    {
      "cell_type": "code",
      "source": [
        "list_word_new[0]"
      ],
      "metadata": {
        "colab": {
          "base_uri": "https://localhost:8080/",
          "height": 36
        },
        "id": "OC4KlT9DxjAf",
        "outputId": "923fe6cd-7539-4d29-db8a-1e20bb9c9ec2"
      },
      "execution_count": 60,
      "outputs": [
        {
          "output_type": "execute_result",
          "data": {
            "text/plain": [
              "'ก\\tk ɔː ˧'"
            ],
            "application/vnd.google.colaboratory.intrinsic+json": {
              "type": "string"
            }
          },
          "metadata": {},
          "execution_count": 60
        }
      ]
    },
    {
      "cell_type": "code",
      "source": [
        "with open(\"wiktionary-23-7-2022-clean.tsv\",\"w\",encoding=\"utf-8\") as f:\n",
        "  f.write('\\n'.join(list_word_new))"
      ],
      "metadata": {
        "id": "iPo25G2qxkx0"
      },
      "execution_count": 61,
      "outputs": []
    },
    {
      "cell_type": "code",
      "source": [
        ""
      ],
      "metadata": {
        "id": "T04G1BPmxwUr"
      },
      "execution_count": 61,
      "outputs": []
    }
  ]
}